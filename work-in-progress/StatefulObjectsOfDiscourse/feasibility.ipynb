{
 "cells": [
  {
   "cell_type": "markdown",
   "metadata": {},
   "source": [
    "# Goal - Create conversation with artifacts\n",
    "- Artifacts are presented in the system message (along with their history eventually)\n",
    "- Artifacts are referenced in the conversation by their nickname\n",
    "- Artifacts can be edited by the AI by rewriting their content (need to use Claude so that I can present this with XML tags)\n",
    "- Users can modify artifacts directly and the changes are reflected in the conversation\n",
    "- Demo CRUD\n",
    "  - User creates artifact by requesting it - user deletes artifact\n",
    "  - User retrieves artifact by requesting it\n",
    "- Demo relationship between artifacts\n",
    "- Demo anchors in artifacts?\n",
    "\n",
    "## Scenario\n",
    "- realestate agent is gathering information about a property (might use tools to get more information)\n",
    "- they talk about the property\n",
    "- they make a template email - which generates a new artifact\n",
    "- they edit the email (making references to other artifacts)\n",
    "- they send it\n",
    "\n",
    "## Unknown\n",
    "- [ ] How do I have the assistant generate an artifact?\n"
   ]
  },
  {
   "cell_type": "code",
   "execution_count": 1,
   "metadata": {},
   "outputs": [],
   "source": [
    "%load_ext autoreload\n",
    "%autoreload 2\n",
    "from conversation import Artifact, Tool, Conversation\n"
   ]
  },
  {
   "cell_type": "code",
   "execution_count": 2,
   "metadata": {},
   "outputs": [],
   "source": [
    "def get_listing(address):\n",
    "    artifact = Artifact(\n",
    "        identifier=\"18bacG4a\",\n",
    "        type=\"application/json\", \n",
    "        title=\"742 Maple Street Listing\", \n",
    "        content=\"\"\"\\\n",
    "{\n",
    "    \"address\": \"742 Maple Street\",\n",
    "    \"city\": \"Cedar Rapids\",\n",
    "    \"state\": \"IA\",\n",
    "    \"zip\": \"52402\",\n",
    "    \"price\": 185000,\n",
    "    \"beds\": 3,\n",
    "    \"baths\": 2,\n",
    "    \"sqft\": 1450,\n",
    "    \"lot_size\": 0.25,\n",
    "    \"year_built\": 1978,\n",
    "    \"description\": \"Charming ranch-style home in established neighborhood. Updated kitchen with new appliances. Finished basement, attached 2-car garage, fenced backyard with mature trees. Close to schools and shopping.\",\n",
    "    \"features\": [           \n",
    "        \"Central air\",\n",
    "        \"Forced air heating\",\n",
    "        \"Hardwood floors\",\n",
    "        \"Updated kitchen\",\n",
    "        \"Finished basement\",\n",
    "        \"Attached garage\",\n",
    "        \"Fenced yard\"\n",
    "    ],\n",
    "}\n",
    "\"\"\")\n",
    "    return str(artifact)\n",
    "\n",
    "def get_comparables(address):\n",
    "    artifact = Artifact(\n",
    "        identifier=\"3baf9f83\", \n",
    "        type=\"application/json\", \n",
    "        title=\"742 Maple Street Comparables\", \n",
    "        content=\"\"\"\\\n",
    "[\n",
    "    {\n",
    "        \"address\": \"738 Maple Street\",\n",
    "        \"city\": \"Cedar Rapids\", \n",
    "        \"state\": \"IA\",\n",
    "        \"price\": 179900,\n",
    "        \"beds\": 3,\n",
    "        \"baths\": 2,\n",
    "        \"sqft\": 1400,\n",
    "        \"year_built\": 1975,\n",
    "        \"last_sold\": {\n",
    "            \"date\": \"2020-03-15\",\n",
    "            \"price\": 165000\n",
    "        },\n",
    "        \"distance_miles\": 0.1,\n",
    "        \"zestimate\": 183000\n",
    "    },\n",
    "    {\n",
    "        \"address\": \"755 Oak Drive\",\n",
    "        \"city\": \"Cedar Rapids\",\n",
    "        \"state\": \"IA\", \n",
    "        \"price\": 192000,\n",
    "        \"beds\": 3,\n",
    "        \"baths\": 2.5,\n",
    "        \"sqft\": 1500,\n",
    "        \"year_built\": 1980,\n",
    "        \"last_sold\": {\n",
    "            \"date\": \"2021-08-01\",\n",
    "            \"price\": 180000\n",
    "        },\n",
    "        \"distance_miles\": 0.3,\n",
    "        \"zestimate\": 195000\n",
    "    },\n",
    "    {\n",
    "        \"address\": \"729 Elm Court\",\n",
    "        \"city\": \"Cedar Rapids\",\n",
    "        \"state\": \"IA\",\n",
    "        \"price\": 187500,\n",
    "        \"beds\": 3,\n",
    "        \"baths\": 2,\n",
    "        \"sqft\": 1425,\n",
    "        \"year_built\": 1977,\n",
    "        \"last_sold\": {\n",
    "            \"date\": \"2020-11-30\",\n",
    "            \"price\": 175000\n",
    "        },\n",
    "        \"distance_miles\": 0.2,\n",
    "        \"zestimate\": 191000\n",
    "    }\n",
    "]\n",
    "\"\"\")\n",
    "    return str(artifact)\n",
    "\n",
    "def get_email_template():\n",
    "    artifact = Artifact(\n",
    "        identifier=\"98acb34d\", \n",
    "        type=\"text/plain\", \n",
    "        title=\"Prospective Buyer Listing Email Template\", \n",
    "        content=\"\"\"\n",
    "Dear {buyer_name},\n",
    "\n",
    "I wanted to bring to your attention an exciting new listing at {address}, {city}, {state} that I believe would be perfect for you.\n",
    "\n",
    "This beautiful {beds} bedroom, {baths} bathroom home offers {sqft} square feet of living space and was built in {year_built}. It is currently listed at ${price:,}, which represents excellent value for this desirable neighborhood.\n",
    "\n",
    "Some key features that make this property stand out:\n",
    "- Spacious layout with {beds} bedrooms\n",
    "- {sqft} square feet of living space\n",
    "- Well-maintained home built in {year_built}\n",
    "- Current Zestimate: ${zestimate:,}\n",
    "\n",
    "To give you some context about the local market, there are several comparable properties in the immediate vicinity:\n",
    "- A similar {beds} bed/{baths} bath home just {distance_miles} miles away recently sold for ${last_sold[price]:,}\n",
    "- Nearby properties range from ${price:,} to ${price:,} in this area\n",
    "- Most homes in this neighborhood were built in the 1970s-1980s\n",
    "\n",
    "Would you like to schedule a viewing of this property? I have several time slots available this week and would be happy to show you around.\n",
    "\n",
    "Best regards,\n",
    "Your Real Estate Agent\n",
    "\"\"\")\n",
    "    return str(artifact)\n",
    "\n",
    "get_listing_schema = {\n",
    "    \"name\": \"get_listing\",\n",
    "    \"description\": \"Get details about a specific property listing\",\n",
    "    \"input_schema\": {\n",
    "        \"type\": \"object\",\n",
    "        \"properties\": {\n",
    "            \"address\": {\n",
    "                \"type\": \"string\",\n",
    "                \"description\": \"The street address to look up\"\n",
    "            }\n",
    "        },\n",
    "        \"required\": [\"address\"]\n",
    "    }\n",
    "}\n",
    "\n",
    "get_comparables_schema = {\n",
    "    \"name\": \"get_comparables\",\n",
    "    \"description\": \"Get comparable property listings in the area\",\n",
    "    \"input_schema\": {\n",
    "        \"type\": \"object\",\n",
    "        \"properties\": {\n",
    "            \"address\": {\n",
    "                \"type\": \"string\",\n",
    "                \"description\": \"The street address to find comparables for\"\n",
    "            },\n",
    "        },\n",
    "        \"required\": [\"address\"]\n",
    "    }\n",
    "}\n",
    "\n",
    "# TODO - fill in the comp blanks\n",
    "get_email_template_schema = {\n",
    "    \"name\": \"get_email_template\",\n",
    "    \"description\": \"Get an email template for sending property listings to prospective buyers\",\n",
    "    \"input_schema\": {\n",
    "        \"type\": \"object\",\n",
    "        \"properties\": {\n",
    "            \"buyer_name\": {\n",
    "                \"type\": \"string\",\n",
    "                \"description\": \"Name of the prospective buyer\"\n",
    "            },\n",
    "            \"listing\": {\n",
    "                \"type\": \"object\",\n",
    "                \"description\": \"Property listing details to include in the email\"\n",
    "            }\n",
    "        },\n",
    "        \"required\": [\"buyer_name\", \"listing\"]\n",
    "    }\n",
    "}\n",
    "\n",
    "\n",
    "tools = [\n",
    "    Tool(get_listing_schema, get_listing),\n",
    "    Tool(get_comparables_schema, get_comparables),\n",
    "    Tool(get_email_template_schema, get_email_template),\n",
    "]"
   ]
  },
  {
   "cell_type": "code",
   "execution_count": 3,
   "metadata": {},
   "outputs": [],
   "source": [
    "c = Conversation(tools=tools)"
   ]
  },
  {
   "cell_type": "code",
   "execution_count": 4,
   "metadata": {},
   "outputs": [
    {
     "name": "stdout",
     "output_type": "stream",
     "text": [
      "\n",
      "[TextBlock(text='Okay, let me look up that listing using the `get_listing` tool:', type='text'), ToolUseBlock(id='toolu_01WW1vPRyTVK4XVMJiV9HLSj', input={'address': '742 Maple Street'}, name='get_listing', type='tool_use')]\n",
      "Okay, let me look up that listing using the `get_listing` tool:\n",
      "Here are the key details about the listing at <a href=\"#18bacG4a\">742 Maple Street</a>:\n",
      "\n",
      "- 3 bedroom, 2 bathroom ranch home\n",
      "- 1,450 square feet on a 0.25 acre lot\n",
      "- Built in 1978, with some updates like new kitchen appliances\n",
      "- Finished basement, attached 2-car garage, fenced backyard\n",
      "- Listed for $185,000 in Cedar Rapids, IA\n",
      "\n",
      "Let me know if you need any other information about this property listing!\n"
     ]
    }
   ],
   "source": [
    "c.say(\"Find the listing for 742 Maple Street\");"
   ]
  },
  {
   "cell_type": "code",
   "execution_count": 5,
   "metadata": {},
   "outputs": [
    {
     "data": {
      "text/plain": [
       "[{'role': 'user', 'content': 'Find the listing for 742 Maple Street'},\n",
       " {'role': 'assistant',\n",
       "  'content': [TextBlock(text='Okay, let me look up that listing using the `get_listing` tool:', type='text'),\n",
       "   ToolUseBlock(id='toolu_01WW1vPRyTVK4XVMJiV9HLSj', input={'address': '742 Maple Street'}, name='get_listing', type='tool_use')]},\n",
       " {'role': 'user',\n",
       "  'content': [{'type': 'tool_result',\n",
       "    'tool_use_id': 'toolu_01WW1vPRyTVK4XVMJiV9HLSj',\n",
       "    'content': '<artifact identifier=18bacG4a type=application/json title=742 Maple Street Listing>\\n{\\n    \"address\": \"742 Maple Street\",\\n    \"city\": \"Cedar Rapids\",\\n    \"state\": \"IA\",\\n    \"zip\": \"52402\",\\n    \"price\": 185000,\\n    \"beds\": 3,\\n    \"baths\": 2,\\n    \"sqft\": 1450,\\n    \"lot_size\": 0.25,\\n    \"year_built\": 1978,\\n    \"description\": \"Charming ranch-style home in established neighborhood. Updated kitchen with new appliances. Finished basement, attached 2-car garage, fenced backyard with mature trees. Close to schools and shopping.\",\\n    \"features\": [           \\n        \"Central air\",\\n        \"Forced air heating\",\\n        \"Hardwood floors\",\\n        \"Updated kitchen\",\\n        \"Finished basement\",\\n        \"Attached garage\",\\n        \"Fenced yard\"\\n    ],\\n}\\n\\n</artifact>'}]},\n",
       " {'role': 'assistant',\n",
       "  'content': 'Okay, let me look up that listing using the `get_listing` tool:\\nHere are the key details about the listing at <a href=\"#18bacG4a\">742 Maple Street</a>:\\n\\n- 3 bedroom, 2 bathroom ranch home\\n- 1,450 square feet on a 0.25 acre lot\\n- Built in 1978, with some updates like new kitchen appliances\\n- Finished basement, attached 2-car garage, fenced backyard\\n- Listed for $185,000 in Cedar Rapids, IA\\n\\nLet me know if you need any other information about this property listing!'}]"
      ]
     },
     "execution_count": 5,
     "metadata": {},
     "output_type": "execute_result"
    }
   ],
   "source": [
    "c.messages"
   ]
  },
  {
   "cell_type": "code",
   "execution_count": null,
   "metadata": {},
   "outputs": [],
   "source": [
    "c.say(\");"
   ]
  },
  {
   "cell_type": "code",
   "execution_count": null,
   "metadata": {},
   "outputs": [],
   "source": [
    "c.say(\");"
   ]
  },
  {
   "cell_type": "code",
   "execution_count": null,
   "metadata": {},
   "outputs": [],
   "source": [
    "c.say(\");"
   ]
  },
  {
   "cell_type": "code",
   "execution_count": null,
   "metadata": {},
   "outputs": [],
   "source": [
    "c.say(\");"
   ]
  },
  {
   "cell_type": "code",
   "execution_count": null,
   "metadata": {},
   "outputs": [],
   "source": [
    "c.say(\");"
   ]
  },
  {
   "cell_type": "code",
   "execution_count": null,
   "metadata": {},
   "outputs": [],
   "source": [
    "c.say(\");"
   ]
  },
  {
   "cell_type": "code",
   "execution_count": null,
   "metadata": {},
   "outputs": [],
   "source": [
    "c.say(\");"
   ]
  },
  {
   "cell_type": "code",
   "execution_count": null,
   "metadata": {},
   "outputs": [],
   "source": [
    "c.say(\");"
   ]
  },
  {
   "cell_type": "code",
   "execution_count": null,
   "metadata": {},
   "outputs": [],
   "source": [
    "c.say(\");"
   ]
  },
  {
   "cell_type": "code",
   "execution_count": null,
   "metadata": {},
   "outputs": [],
   "source": [
    "c.say(\");"
   ]
  }
 ],
 "metadata": {
  "kernelspec": {
   "display_name": "blog",
   "language": "python",
   "name": "python3"
  },
  "language_info": {
   "codemirror_mode": {
    "name": "ipython",
    "version": 3
   },
   "file_extension": ".py",
   "mimetype": "text/x-python",
   "name": "python",
   "nbconvert_exporter": "python",
   "pygments_lexer": "ipython3",
   "version": "3.11.9"
  }
 },
 "nbformat": 4,
 "nbformat_minor": 2
}
