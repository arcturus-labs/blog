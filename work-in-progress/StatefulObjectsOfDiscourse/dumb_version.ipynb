{
 "cells": [
  {
   "cell_type": "code",
   "execution_count": 1,
   "metadata": {},
   "outputs": [],
   "source": [
    "%load_ext autoreload\n",
    "%autoreload 2\n",
    "from conversation import Artifact,Tool, DumbConversation\n"
   ]
  },
  {
   "cell_type": "code",
   "execution_count": 4,
   "metadata": {},
   "outputs": [],
   "source": [
    "from example_tools import tools\n",
    "c = DumbConversation(tools=tools)"
   ]
  },
  {
   "cell_type": "code",
   "execution_count": 5,
   "metadata": {},
   "outputs": [
    {
     "name": "stdout",
     "output_type": "stream",
     "text": [
      "\n",
      "[TextBlock(text=\"I'll help you get the details for that property listing using the get_listing function.\", type='text'), ToolUseBlock(id='toolu_01JRAFXA3AhDzJdz3ZZ6vgN4', input={'address': '742 Maple Street'}, name='get_listing', type='tool_use')]\n",
      "I'll help you get the details for that property listing using the get_listing function.\n",
      "I've retrieved the listing information for 742 Maple Street. This is a 3-bedroom, 2-bathroom ranch-style home in Cedar Rapids, Iowa, listed at $185,000. The home is 1,450 square feet and sits on a quarter-acre lot. Built in 1978, it features several updates including a renovated kitchen with new appliances. \n",
      "\n",
      "Key features include:\n",
      "- Finished basement\n",
      "- Attached 2-car garage\n",
      "- Fenced backyard with mature trees\n",
      "- Hardwood floors\n",
      "- Central air and forced air heating\n",
      "- Updated kitchen\n",
      "\n",
      "The property is conveniently located close to schools and shopping areas. Would you like me to get any comparable properties in the area for comparison?\n"
     ]
    }
   ],
   "source": [
    "c.say(\"Find the listing for 742 Maple Street\");"
   ]
  },
  {
   "cell_type": "code",
   "execution_count": 6,
   "metadata": {},
   "outputs": [
    {
     "name": "stdout",
     "output_type": "stream",
     "text": [
      "\n",
      "[TextBlock(text=\"I'll use the get_comparables function to find similar properties in the area.\", type='text'), ToolUseBlock(id='toolu_01MAyxG98yL4hWvo7ukXZFKc', input={'address': '742 Maple Street'}, name='get_comparables', type='tool_use')]\n",
      "I'll use the get_comparables function to find similar properties in the area.\n",
      "Yes, I found three comparable properties in the immediate area. Here's how they compare to 742 Maple Street (listed at $185,000):\n",
      "\n",
      "1. 738 Maple Street - Just down the street (0.1 miles away)\n",
      "- Price: $179,900\n",
      "- 3 bed, 2 bath\n",
      "- 1,400 sq ft\n",
      "- Built in 1975\n",
      "- Slightly smaller and less expensive than your target property\n",
      "\n",
      "2. 755 Oak Drive - 0.3 miles away\n",
      "- Price: $192,000\n",
      "- 3 bed, 2.5 bath\n",
      "- 1,500 sq ft\n",
      "- Built in 1980\n",
      "- Slightly larger with an extra half bath, hence the higher price\n",
      "\n",
      "3. 729 Elm Court - 0.2 miles away\n",
      "- Price: $187,500\n",
      "- 3 bed, 2 bath\n",
      "- 1,425 sq ft\n",
      "- Built in 1977\n",
      "- Very similar in size and features to 742 Maple Street\n",
      "\n",
      "These comparables suggest that 742 Maple Street's listing price of $185,000 is right in line with the local market. The prices in this area range from about $179,900 to $192,000 for similar homes, with variations based on size, condition, and specific features.\n",
      "\n",
      "Would you like any additional information about any of these properties?\n"
     ]
    }
   ],
   "source": [
    "c.say(\"Are there any comparable properties nearby?\");"
   ]
  },
  {
   "cell_type": "code",
   "execution_count": 7,
   "metadata": {},
   "outputs": [
    {
     "name": "stdout",
     "output_type": "stream",
     "text": [
      "\n",
      "[TextBlock(text=\"I'll retrieve the correct listing information for 740 Maple Street.\", type='text'), ToolUseBlock(id='toolu_01Pfjpk6nU4VhdYxmvH4wwv1', input={'address': '740 Maple Street'}, name='get_listing', type='tool_use')]\n",
      "\n",
      "[TextBlock(text='Let me also get the comparables for the correct address.', type='text'), ToolUseBlock(id='toolu_01492DZ8fLZnWCc5pw8Exwqf', input={'address': '740 Maple Street'}, name='get_comparables', type='tool_use')]\n",
      "I'll retrieve the correct listing information for 740 Maple Street.\n",
      "Let me also get the comparables for the correct address.\n",
      "I notice that even though I requested information for 740 Maple Street, the system is still showing the listing for 742 Maple Street. This might indicate that there's an issue with the listing in the system, or the address might need to be updated in the database. I recommend:\n",
      "\n",
      "1. Double-checking that 740 Maple Street is indeed the correct address\n",
      "2. Contacting the system administrator or relevant database manager to update the address in the system\n",
      "3. Ensuring all marketing materials and listings reflect the correct address of 740 Maple Street\n",
      "\n",
      "Would you like me to help you with any of these next steps?\n"
     ]
    }
   ],
   "source": [
    "c.say(\"Oops, there's an error in the listing. That address is actually 740 Maple Street. Fix it.\");"
   ]
  },
  {
   "cell_type": "code",
   "execution_count": 8,
   "metadata": {},
   "outputs": [
    {
     "name": "stdout",
     "output_type": "stream",
     "text": [
      "\n",
      "[TextBlock(text=\"I'll get the email template for you.\", type='text'), ToolUseBlock(id='toolu_01BXB3JgD8sCxQNdEcez6dy7', input={}, name='get_email_template', type='tool_use')]\n",
      "I'll get the email template for you.\n",
      "I can help you customize this template with the property information we have. Based on the listing we pulled earlier, here's how the email would look with the details filled in:\n",
      "\n",
      "Dear Bob Sircy,\n",
      "\n",
      "I wanted to bring to your attention an exciting new listing at 740 Maple Street, Cedar Rapids, IA that I believe would be perfect for you.\n",
      "\n",
      "This beautiful 3 bedroom, 2 bathroom home offers 1,450 square feet of living space and was built in 1978. It is currently listed at $185,000, which represents excellent value for this desirable neighborhood.\n",
      "\n",
      "Some key features that make this property stand out:\n",
      "- Spacious layout with 3 bedrooms\n",
      "- 1,450 square feet of living space\n",
      "- Well-maintained home built in 1978\n",
      "- Updated kitchen with new appliances\n",
      "- Finished basement\n",
      "- Attached 2-car garage\n",
      "- Fenced backyard with mature trees\n",
      "- Hardwood floors\n",
      "- Central air and forced air heating\n",
      "\n",
      "To give you some context about the local market, there are several comparable properties in the immediate vicinity:\n",
      "- Similar homes in the area range from $179,900 to $192,000\n",
      "- A comparable home at 738 Maple Street (just 0.1 miles away) is listed at $179,900\n",
      "- Most homes in this neighborhood were built in the 1970s-1980s\n",
      "\n",
      "Would you like to schedule a viewing of this property? I have several time slots available this week and would be happy to show you around.\n",
      "\n",
      "Best regards,\n",
      "Your Real Estate Agent\n",
      "\n",
      "Would you like me to modify any part of this email before you send it?\n"
     ]
    }
   ],
   "source": [
    "c.say(\"lets grab that template - I need to email Bob Sircy about this property.\");"
   ]
  },
  {
   "cell_type": "code",
   "execution_count": 9,
   "metadata": {},
   "outputs": [
    {
     "name": "stdout",
     "output_type": "stream",
     "text": [
      "\n",
      "[TextBlock(text=\"I'll help you prepare an email using the template and the listing information we have. I'll customize it specifically for Bob Sircy and the 740 Maple Street property.\", type='text'), ToolUseBlock(id='toolu_01Grk4TGLRwVdQrNKSoeZcRM', input={'address': '740 Maple Street'}, name='get_listing', type='tool_use')]\n",
      "\n",
      "[ToolUseBlock(id='toolu_01PnYB4QkGRwSuux5eEMQtAk', input={'address': '740 Maple Street'}, name='get_comparables', type='tool_use')]\n",
      "\n",
      "[ToolUseBlock(id='toolu_01BK9C2YSccrvysvxYK8MLBL', input={}, name='get_email_template', type='tool_use')]\n",
      "I'll help you prepare an email using the template and the listing information we have. I'll customize it specifically for Bob Sircy and the 740 Maple Street property.\n",
      "Here's the customized email for Bob Sircy:\n",
      "\n",
      "Dear Bob Sircy,\n",
      "\n",
      "I wanted to bring to your attention an exciting new listing at 740 Maple Street, Cedar Rapids, IA that I believe would be perfect for you.\n",
      "\n",
      "This beautiful 3 bedroom, 2 bathroom home offers 1,450 square feet of living space and was built in 1978. It is currently listed at $185,000, which represents excellent value for this desirable neighborhood.\n",
      "\n",
      "Some key features that make this property stand out:\n",
      "- Updated kitchen with new appliances\n",
      "- Finished basement\n",
      "- Attached 2-car garage\n",
      "- Fenced backyard with mature trees\n",
      "- Hardwood floors throughout\n",
      "- Central air and forced air heating\n",
      "- Quarter-acre lot\n",
      "\n",
      "To give you some context about the local market, there are several comparable properties in the immediate vicinity:\n",
      "- A similar 3 bed/2 bath home at 738 Maple Street (just 0.1 miles away) is listed at $179,900\n",
      "- Nearby properties range from $179,900 to $192,000 in this area\n",
      "- Most homes in this neighborhood were built in the 1970s-1980s, with this one dating to 1978\n",
      "\n",
      "Would you like to schedule a viewing of this property? I have several time slots available this week and would be happy to show you around.\n",
      "\n",
      "Best regards,\n",
      "Your Real Estate Agent\n",
      "\n",
      "Note: I've customized the template to include more specific details about the property's features and provided relevant market comparisons. I've also adjusted the address to show 740 Maple Street as requested, even though the system is still showing the listing under 742 Maple Street. Would you like me to make any adjustments to this email before you send it?\n"
     ]
    }
   ],
   "source": [
    "c.say(\"Can you create an email using that template for Bob Sircy for the property at 740 Maple Street?\");"
   ]
  },
  {
   "cell_type": "code",
   "execution_count": 10,
   "metadata": {},
   "outputs": [
    {
     "name": "stdout",
     "output_type": "stream",
     "text": [
      "I'll revise the email to be more casual and add some humor, and I'll make sure to sign it properly as John Berryman:\n",
      "\n",
      "Dear Bob Sircy,\n",
      "\n",
      "Hey there! I just had to tell you about this gem I found at 740 Maple Street, Cedar Rapids, IA. Trust me, this one's so perfect for you, it's like it was built with a \"Bob Sircy's Future Home\" sign in mind! 😄\n",
      "\n",
      "We're talking about a sweet 3 bedroom, 2 bathroom setup with 1,450 square feet of living space. Born in 1978 (just like some of our favorite disco hits!), and priced at $185,000 - which is quite the deal for this neck of the woods.\n",
      "\n",
      "Let me brag about some of the cool stuff this place is rocking:\n",
      "- A kitchen so newly updated, your takeout menus might finally get jealous\n",
      "- A finished basement perfect for your \"man cave\" dreams\n",
      "- An attached 2-car garage (no more playing \"where did I park?\" in winter!)\n",
      "- A fenced backyard with trees so mature they probably have their own book club\n",
      "- Hardwood floors that have seen fewer scuffs than my dress shoes\n",
      "- Central air and heating (because nobody likes being a popsicle OR a puddle)\n",
      "\n",
      "Now, for some neighborhood gossip (I mean, market context 😉):\n",
      "- Your potential neighbor at 738 Maple Street is asking $179,900 for their place\n",
      "- Houses around here are going for between $179,900 and $192,000\n",
      "- The whole neighborhood is rocking that awesome 70s-80s vibe (but don't worry, the shag carpeting is long gone!)\n",
      "\n",
      "Want to take a peek? I've got time slots open this week, and I promise not to bore you with too many real estate puns... though I might have a couple that'll really \"floor\" you! \n",
      "\n",
      "Give me a shout when you're ready to check it out!\n",
      "\n",
      "Best regards,\n",
      "John Berryman\n",
      "(Your Real Estate Agent Who Obviously Needs Better Jokes) \n",
      "\n",
      "P.S. Seriously though, this place is pretty awesome. You should come see it!\n",
      "\n",
      "Would you like me to make any other adjustments to the tone or content?\n"
     ]
    }
   ],
   "source": [
    "c.say(\"Oops! You forgot to sign it. My name is John Berryman. Also, the client has a great sense of humor. Can you modify the email artifact to be less formal and maybe even a bit funnier?\");"
   ]
  }
 ],
 "metadata": {
  "kernelspec": {
   "display_name": "blog",
   "language": "python",
   "name": "python3"
  },
  "language_info": {
   "codemirror_mode": {
    "name": "ipython",
    "version": 3
   },
   "file_extension": ".py",
   "mimetype": "text/x-python",
   "name": "python",
   "nbconvert_exporter": "python",
   "pygments_lexer": "ipython3",
   "version": "3.11.9"
  }
 },
 "nbformat": 4,
 "nbformat_minor": 2
}
